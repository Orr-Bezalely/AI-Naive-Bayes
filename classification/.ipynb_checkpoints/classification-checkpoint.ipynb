{
 "cells": [
  {
   "cell_type": "markdown",
   "metadata": {},
   "source": [
    "# Classification\n",
    "Please ensure you carefully read all instructions on the assignment page, this section, and the rest of the notebook. If anything is unclear at any time please ask the teaching team well in advance of the assignment deadline.\n",
    "\n",
    "In addition to all of the instructions in the body of the assignment below, you must also follow the following technical instructions for all assignments in this unit. *Failure to do so may result in a grade of zero.*\n",
    "* [At the bottom of the page](#Submission-Test) is some code which checks you meet the submission requirements. You **must** ensure that this runs correctly before submission.\n",
    "* Do not modify or delete any of the cells that are marked as test cells, even if they appear to be empty.\n",
    "* Do not duplicate any cells in the notebook – this can break the marking script. Instead, insert a new cell (e.g. from the menu) and copy across any contents as necessary.\n",
    "\n",
    "Remember to save and backup your work regularly, and double-check you are submitting the correct version.\n",
    "\n",
    "This notebook is the primary reference for your submission. You may write code in separate `.py` files but it must be clearly imported into the notebook so that it runs without needing to reference those files, and you must explain clearly what functionality is contained in those files (through comments, markdown cells, etc).\n",
    "\n",
    "**You should also submit a readme file (.txt or .md) explaining your implementation, any decisions or extensions you made, and what parameter values you used.** This explanation should demonstrate what you have done and that you have done it on your own, e.g., you understand methods that you have used. Failure to submit a readme file, or if the readme file does not contain enough information to demonstrate what you have done and that you actually understand what you have done may result in getting zero marks for this assignment.\n",
    "\n",
    "As always, **the work you submit for this assignment must be entirely your own.** Do not copy or work with other students. Do not copy answers that you find online. These assignments are designed to help improve your understanding first and foremost – the process of doing the assignment is part of *learning*. They are also used to assess your ability, and so you must uphold academic integrity. Submitting plagiarised work risks your entire place on your degree.\n",
    "\n",
    "**This assignment is worth 20% of your total mark for the unit. The deadline for this assignment is 30 April 2021 at 8 pm UK time.** Please ask for help if you are struggling. Your submission should include:\n",
    "\n",
    "* this notebook filled with your code\n",
    "* readme file (.txt or .md)\n",
    "* any additional .py files that you may wish to use (remember to properly import them in this notebook)\n",
    "\n",
    "## Getting Started\n",
    "This assignment contains 2 parts. The first one is **compulsory** and it is worth 70% of your mark for this assignment. The second part is **optional** if you would like to get a higher (over 70%) mark for this assignment. \n",
    "\n",
    "This assignment is devoted to supervised machine learning. In the first part of the assignment you are asked to write a classifier to detect any spam email messages. In the second part of the assignment you are asked to work on feature design for a classifier to classify hand written digits."
   ]
  },
  {
   "cell_type": "code",
   "execution_count": 2,
   "metadata": {},
   "outputs": [],
   "source": [
    "%matplotlib inline"
   ]
  },
  {
   "cell_type": "markdown",
   "metadata": {},
   "source": [
    "# Part 1 (compulsory, worth 70% of the mark for this assignment) - Spam filtering\n",
    "\n",
    "Spam refers to unwanted email, often in the form of advertisements. In the literature, an email that is **not** spam is called *ham*. Most email providers offer automatic spam filtering, where spam emails will be moved to a separate inbox based on their contents. Of course this requires being able to scan an email and determine whether it is spam or ham, a classification problem. This is the subject of this part of the assignment.\n",
    "\n",
    "You will need to write a supervised learning based classifier to determine whether a given email is spam or ham. You must write and submit the code in this notebook. The training data is provided for you. You may use any classification method. Marks will be awarded primarily based on the accuracy of your classifier on unseen test data, but there are also marks for estimating how accurate you think your classifier will be.\n",
    "\n",
    "\n",
    "## Choice of Algorithm\n",
    "While the classification method is a completely free choice, the assignment folder includes [a separate notebook file](data/naivebayes.ipynb) which can help you implement a Naïve Bayes solution. If you do use this notebook, you are still responsible for porting your code into *this* notebook for submission. A good implementation should give a high  enough accuracy to get a good grade.\n",
    "\n",
    "You could also consider a k-nearest neighbour algorithm, but this may be less accurate. Logistic regression is another option that you may wish to consider.\n",
    "\n",
    "If you are looking to go beyond the scope of the unit, you might be interested in building something more advanced, like an artificial neural network. This is possible just using `numpy`, but will require significant self-directed learning. *Extensions like this are left unguided and are not factored into the unit workload estimates.*\n",
    "\n",
    "**Note:** you may use helper functions in libraries like `numpy` or `scipy`, but you **must not** import code which builds entire models for you. This includes but is not limited to use of libraries like `scikit-learn`, `tensorflow`, or `pytorch` – there will be plenty of opportunities for these libraries in later units. The point of this assignment is to understand code of the actual algorithm yourself. ***If you are in any doubt about any particular library or function please ask the teaching team.*** Submissions which ignore this will receive penalties or even zero marks.\n",
    "\n",
    "If you choose to implement more than one algorithm, please feel free to include your code in a separate file and talk about it the readme file, but only the code in this notebook will be used in the automated testing and it will form your mark. You may get extra points for the additional algorithm, but it is not guaranteed. Therefore, if of any doubt, it is better to spend your time focusing on making one algorithm working to its best performance rather than to implement an additional algorithm.\n",
    "\n",
    "## Training Data - spam filtering\n",
    "The training data is described below and has 1000 rows. There is also a 500 row set of test data. These are functionally identical to the training data, they are just in a separate csv file to encourage you to split out your training and test data. You should consider how to best make use of all available data without overfitting, and to help produce an unbiased estimate for your classifier's accuracy.\n",
    "\n",
    "The cell below loads the training data into a variable called `training_spam`."
   ]
  },
  {
   "cell_type": "code",
   "execution_count": 3,
   "metadata": {},
   "outputs": [
    {
     "name": "stdout",
     "output_type": "stream",
     "text": [
      "Shape of the spam training data set: (1000, 55)\n",
      "[[1 0 0 ... 0 0 0]\n",
      " [0 0 1 ... 1 0 0]\n",
      " [0 0 0 ... 1 0 0]\n",
      " ...\n",
      " [0 0 0 ... 0 0 1]\n",
      " [1 1 1 ... 1 1 0]\n",
      " [1 0 0 ... 1 1 1]]\n"
     ]
    }
   ],
   "source": [
    "import numpy as np\n",
    "\n",
    "training_spam = np.loadtxt(open(\"data/training_spam.csv\"), delimiter=\",\").astype(int)\n",
    "print(\"Shape of the spam training data set:\", training_spam.shape)\n",
    "print(training_spam)"
   ]
  },
  {
   "cell_type": "markdown",
   "metadata": {},
   "source": [
    "Your training set consists of 1000 rows and 55 columns. Each row corresponds to one email message. The first column is the _response_ variable and describes whether a message is spam `1` or ham `0`. The remaining 54 columns are _features_ that you will use to build a classifier. These features correspond to 54 different keywords (such as \"money\", \"free\", and \"receive\") and special characters (such as \":\", \"!\", and \"$\"). A feature has the value `1` if the keyword appears in the message and `0` otherwise.\n",
    "\n",
    "As mentioned, there is also a 500-row set of *test data*. It contains the same 55 columns."
   ]
  },
  {
   "cell_type": "code",
   "execution_count": 4,
   "metadata": {},
   "outputs": [
    {
     "name": "stdout",
     "output_type": "stream",
     "text": [
      "Shape of the spam testing data set: (500, 55)\n",
      "[[1 0 0 ... 1 1 1]\n",
      " [1 1 0 ... 1 1 1]\n",
      " [0 0 0 ... 0 0 0]\n",
      " ...\n",
      " [0 0 0 ... 0 0 0]\n",
      " [0 0 0 ... 1 0 0]\n",
      " [0 0 0 ... 1 0 0]]\n"
     ]
    }
   ],
   "source": [
    "testing_spam = np.loadtxt(open(\"data/testing_spam.csv\"), delimiter=\",\").astype(int)\n",
    "print(\"Shape of the spam testing data set:\", testing_spam.shape)\n",
    "print(testing_spam)"
   ]
  },
  {
   "cell_type": "markdown",
   "metadata": {},
   "source": [
    "## Spam filtering classification\n",
    "Write all of the code for your classifier below this cell. There is some very rough skeleton code in the cell directly below. You may insert more cells below this if you wish, but you must not duplicate any cells as this can break the grading script.\n",
    "\n",
    "### Submission Requirements\n",
    "Your code must provide a variable with the name `spam_classifier`. This object must have a method called `predict` which takes input data and returns class predictions. The input will be a single $n \\times 54$ numpy array, your classifier should return a numpy array of length $n$ with classifications. There is a demo in the cell below, and a test you can run before submitting to check your code is working correctly.\n",
    "\n",
    "Your code must run on our test machine in under 30 seconds. If you wish to train a more complicated model (e.g. neural network) which will take longer, you are welcome to save the model's weights as a file and then load these in the cell below so we can test it. You must include the code which computes the original weights, but this must not run when we run the notebook – comment out the code which actually executes the routine and make sure it is clear what we need to change to get it to run. \n",
    "\n",
    "Remember that we will be testing your final classifier on additional hidden data."
   ]
  },
  {
   "cell_type": "code",
   "execution_count": 6,
   "metadata": {},
   "outputs": [
    {
     "name": "stdout",
     "output_type": "stream",
     "text": [
      "(1200, 55) (300, 55)\n",
      "0.91\n"
     ]
    }
   ],
   "source": [
    "# This skeleton code simply classifies every input as ham\n",
    "#\n",
    "# Here you can see there is a parameter k that is unused, the\n",
    "# point is to show you how you could set up your own. You can\n",
    "# also see a train method that does nothing here\n",
    "# but your classifier would probably do the main work here. \n",
    "# Modify this code as much as you like so long as the \n",
    "# accuracy test in the cell below runs\n",
    "\n",
    "class MyClassifier:\n",
    "    def __init__(self, num_of_classes, alpha=1.0):\n",
    "        self.num_of_classes = num_of_classes\n",
    "        self.alpha = alpha\n",
    "        \n",
    "#     def train(self, train_data, train_labels):\n",
    "#         pass\n",
    "\n",
    "    def estimate_log_class_priors(self, data):\n",
    "        \"\"\"\n",
    "        Given a data set with binary response variable (0s and 1s), \n",
    "        calculate the logarithm of the empirical class priors,\n",
    "        that is, the logarithm of the proportions of 0s and 1s:\n",
    "            log(p(C=0)) and log(p(C=1))\n",
    "\n",
    "        :param data: a numpy array of length n_samples\n",
    "                     that contains the binary response (coded as 0s and 1s).\n",
    "\n",
    "        :return log_class_priors: a numpy array of length two\n",
    "        \"\"\"\n",
    "        ### YOUR CODE HERE...\n",
    "        log_class_priors = np.empty(self.num_of_classes)\n",
    "        for class_i in range(self.num_of_classes):\n",
    "            log_class_priors[class_i] = np.sum(data == class_i)\n",
    "        log_class_priors = np.log(log_class_priors/len(data))\n",
    "        return log_class_priors\n",
    "        \n",
    "        \n",
    "    def estimate_log_class_conditional_likelihoods(self, input_data, labels):\n",
    "        \"\"\"\n",
    "        Given input_data of binary features (words) and labels \n",
    "        (binary response variable (0s and 1s)), calculate the logarithm \n",
    "        of the empirical class-conditional likelihoods, that is,\n",
    "        log(P(w_i | c)) for all features w_i and both classes (c in {0, 1}).\n",
    "\n",
    "        Assume a multinomial feature distribution and use Laplace smoothing\n",
    "        if alpha > 0.\n",
    "\n",
    "        :param input_data: a two-dimensional numpy-array with shape = [n_samples, n_features]\n",
    "                           contains binary features (words)\n",
    "        :param labels: a numpy array of length n_samples \n",
    "                       contains response variable\n",
    "\n",
    "        :return theta:\n",
    "            a numpy array of shape = [2, n_features]. theta[j, i] corresponds to the\n",
    "            logarithm of the probability of feature i appearing in a sample belonging \n",
    "            to class j.\n",
    "        \"\"\"\n",
    "        ### YOUR CODE HERE...\n",
    "        n_datas, n_features = input_data.shape\n",
    "        theta = np.zeros((self.num_of_classes, n_features))\n",
    "        for class_i in range(self.num_of_classes):\n",
    "            feature_c = np.count_nonzero(input_data[labels == class_i], axis=0)\n",
    "            n_c = np.sum(feature_c)\n",
    "            theta[class_i] = (feature_c+self.alpha)/(n_c + n_features*self.alpha) \n",
    "        return np.log(theta)\n",
    "    \n",
    "    def train(self, train_data, train_labels):\n",
    "        \"\"\"\n",
    "        Given input_data of binary features (words) and labels \n",
    "        (binary response variable (0s and 1s)), calculate \n",
    "        * the logarithm of the empirical class priors, that is, \n",
    "          the logarithm of the proportions of 0s and 1s:\n",
    "            log(p(C=0)) and log(p(C=1))\n",
    "        * the logarithm of the empirical class-conditional likelihoods, \n",
    "          that is, log(P(w_i | c)) for all features w_i and both classes (c in {0, 1}).\n",
    "\n",
    "        Assume a multinomial feature distribution and use Laplace smoothing\n",
    "        if alpha > 0.\n",
    "\n",
    "        :param data: a two-dimensional numpy-array with shape = [n_samples, 1 + n_features]\n",
    "\n",
    "        :return \n",
    "            log_class_priors: a numpy array of length two\n",
    "\n",
    "            theta:\n",
    "            a numpy array of shape = [2, n_features]. theta[j, i] corresponds to the\n",
    "            logarithm of the probability of feature i appearing in a sample belonging \n",
    "            to class j.\n",
    "        \"\"\"\n",
    "        ### YOUR CODE HERE...\n",
    "        if train_data is not None and train_labels is not None:\n",
    "            self.log_class_priors = self.estimate_log_class_priors(train_labels)\n",
    "            self.theta = self.estimate_log_class_conditional_likelihoods(train_data, train_labels)\n",
    "            return self.log_class_priors, self.theta\n",
    "        \n",
    "    def predict(self, new_data):\n",
    "        \"\"\"\n",
    "        Given a new data set with binary features, predict the corresponding\n",
    "        response for each instance (row) of the new_data set.\n",
    "\n",
    "        :param new_data: a two-dimensional numpy-array with shape = [n_test_samples, n_features].\n",
    "        :param log_class_priors: a numpy array of length 2.\n",
    "        :param log_class_conditional_likelihoods: a numpy array of shape = [2, n_features].\n",
    "            theta[j, i] corresponds to the logarithm of the probability of feature i appearing\n",
    "            in a sample belonging to class j.\n",
    "        :return class_predictions: a numpy array containing the class predictions for each row\n",
    "            of new_data.\n",
    "        \"\"\"\n",
    "        ### YOUR CODE HERE...\n",
    "        all_args = np.zeros((self.num_of_classes, new_data.shape[0]))\n",
    "        for class_i in range(self.num_of_classes):\n",
    "            all_args[class_i] = self.log_class_priors[class_i] + np.sum(self.theta[class_i] * new_data, axis=1)\n",
    "        return np.argmax(all_args, axis=0)    \n",
    "    \n",
    "\n",
    "def k_fold(data, fold_num, alpha_list):\n",
    "    batch_size = 1\n",
    "    for alpha in alpha_list:\n",
    "        accuracies = []\n",
    "        for i in range(0, data.shape[0], batch_size):\n",
    "            training_batches = np.vstack((data[:i], data[i+batch_size:]))\n",
    "            test_batch = data[i:i+batch_size]\n",
    "            spam_classifier = MyClassifier(2, alpha)\n",
    "            log_class_priors, theta = spam_classifier.train(training_batches[:, 1:], training_batches[:, 0])\n",
    "            class_predictions = spam_classifier.predict(test_batch[:, 1:])\n",
    "            true_classes = test_batch[:, 0]\n",
    "            training_set_accuracy = np.mean(np.equal(class_predictions, true_classes))\n",
    "            accuracies.append(training_set_accuracy)\n",
    "            #print(f\"Accuracy on the training set: {training_set_accuracy}\")\n",
    "        x = np.array(accuracies)\n",
    "        print(alpha, np.mean(x))\n",
    "            \n",
    "        \n",
    "\n",
    "training_spam = np.loadtxt(open(\"data/training_spam.csv\"), delimiter=\",\").astype(int)\n",
    "test_spam = np.loadtxt(open(\"data/testing_spam.csv\"), delimiter=\",\").astype(int)\n",
    "all_data = np.vstack((training_spam, test_spam))\n",
    "all_data_training = all_data[:1200, :]\n",
    "all_data_testing = all_data[1200:, :]\n",
    "print(all_data_training.shape, all_data_testing.shape)\n",
    "# k_fold(all_data_training, 10, [292+i*0.1 for i in range(0, 370)])\n",
    "\n",
    "spam_classifier = MyClassifier(2, 300)\n",
    "log_class_priors, theta = spam_classifier.train(all_data_training[:, 1:], all_data_training[:, 0])\n",
    "class_predictions = spam_classifier.predict(all_data_testing[:, 1:])\n",
    "true_classes = all_data_testing[:, 0]\n",
    "training_set_accuracy = np.mean(np.equal(class_predictions, true_classes))\n",
    "print(training_set_accuracy)\n",
    "\n",
    "\n",
    "# spam_classifier = MyClassifier(1, 2)\n",
    "\n",
    "\n",
    "\n",
    "\n",
    "\n",
    "# spam_classifier = MyClassifier(1, 2)\n",
    "# trained = spam_classifier.train(train_data=training_spam[:, 1:], train_labels=training_spam[:, 0])\n",
    "# class_predictions = spam_classifier.predict(test_spam[:, 1:])\n",
    "# # Check accuracy\n",
    "# true_classes = test_spam[:, 0]\n",
    "# training_set_accuracy = np.mean(np.equal(class_predictions, true_classes))\n",
    "# print(f\"Accuracy on the training set: {training_set_accuracy}\")"
   ]
  },
  {
   "cell_type": "markdown",
   "metadata": {},
   "source": [
    "###### Accuracy Estimate\n",
    "In the cell below there is a function called `my_accuracy_estimate()` which returns `0.5`. Before you submit the assignment, write your best guess for the accuracy of your classifier into this function, as a percentage between `0` and `1`. So if you think you will get 80% of inputs correct, return the value `0.8`. This will form a small part of the marking criteria for the assignment, to encourage you to test your own code."
   ]
  },
  {
   "cell_type": "code",
   "execution_count": 6,
   "metadata": {},
   "outputs": [],
   "source": [
    "def my_accuracy_estimate():\n",
    "    return 0.91"
   ]
  },
  {
   "cell_type": "markdown",
   "metadata": {},
   "source": [
    "Write all of the code for part 1 of the assignment above this cell.\n",
    "\n",
    "### Testing Details\n",
    "Your classifier will be tested against some hidden data from the same source as the original. The accuracy (percentage of classifications correct) will be calculated, then benchmarked against common methods. At the very high end of the grading scale, your accuracy will also be compared to the best submissions from other students (in your own cohort and others!). Your estimate from the cell above will also factor in, and you will be rewarded for being close to your actual accuracy (overestimates and underestimates will be treated the same).\n",
    "\n",
    "#### Test Cell\n",
    "The following code will run your classifier against the provided test data. To enable it, set the constant `SKIP_TESTS` to `False`.\n",
    "\n",
    "The original skeleton code above classifies every row as ham, but once you have written your own classifier you can run this cell again to test it. So long as your code sets up a variable called `spam_classifier` with a method called `predict`, the test code will be able to run. \n",
    "\n",
    "Of course, you may wish to test your classifier in additional ways, but you *must* ensure this version still runs before submitting.\n",
    "\n",
    "**IMPORTANT**: you must set `SKIP_TESTS` back to `True` before submitting this file!"
   ]
  },
  {
   "cell_type": "code",
   "execution_count": 7,
   "metadata": {},
   "outputs": [
    {
     "name": "stdout",
     "output_type": "stream",
     "text": [
      "Accuracy on test data is: 0.904\n"
     ]
    }
   ],
   "source": [
    "SKIP_TESTS = False\n",
    "\n",
    "if not SKIP_TESTS:\n",
    "    testing_spam = np.loadtxt(open(\"data/testing_spam.csv\"), delimiter=\",\").astype(int)\n",
    "    test_data = testing_spam[:, 1:]\n",
    "    test_labels = testing_spam[:, 0]\n",
    "\n",
    "    predictions = spam_classifier.predict(test_data)\n",
    "    accuracy = np.count_nonzero(predictions == test_labels)/test_labels.shape[0]\n",
    "    print(f\"Accuracy on test data is: {accuracy}\")"
   ]
  },
  {
   "cell_type": "markdown",
   "metadata": {},
   "source": [
    "# Part 2 (optional, to get more than 70% of the mark for this assignment) - Feature engineering for digit classification\n",
    "\n",
    "Optical character recognition ([OCR](https://en.wikipedia.org/wiki/Optical_character_recognition)) is the task of extracting text from image sources. The dataset on which you will run your classifier is a collection of handwritten numerical digits (0-9). This is a subsample of the famous [MNIST](https://en.wikipedia.org/wiki/MNIST_database) (Modified National Institute of Standards and Technology) dataset, which serves as a popular playground in machine learning research. OCR is a very commercially useful technology, and some existing systems can achieve over 99% classification accuracy.\n",
    "\n",
    "You will need to train a classifier to recognise a given image of a handwritten digit as one of 10 classes $\\{0, 1, \\ldots, 9\\}$ that corresponds to the written digit. You may use any classification method including the same classification method you use for part 1 for spam filtering. If your `MyClassifier` class that can generalised to an arbitrary number of input features and artibtary number of class labels, you may use the same `MyClassifier` for both parts. You will need to have two different instances (`spam_classifier = MyClassifier()` and `digit_classifier = MyClassifier()`) for part 1 and part 2 of the assignments. The main task of part 2 is to improve the classification accuracy via feature engineering (see below). You mark will not directly depend on your choice of classification method and its initial accuracy. \n",
    "\n",
    "Building classifiers is only a small part of getting a good system working for a task. Indeed, the main difference between a good classification system and a bad one is usually not the classifier itself (e.g. perceptron vs. naïve Bayes), but rather the quality of the features used. \n",
    "\n",
    "For digit classification we start with the simplest possible features: for each pixel we use a binary variable, which is set to 1 if a pixel is on (its' colour is not black), or it is set to 0 if a pixel is off (its' colour is black). These are the basic features with which you will need to compare. \n",
    "\n",
    "To improve the accuracy of your classifier, you will need to extract more useful features from the data by completing the `BetterFeatureExtractor` function below. \n",
    "\n",
    "*Hint*: You are free to choose how to approach this task. This is just a possible suggestion. When analyzing your classifiers' results on the base features, you should look at some of your errors and look for characteristics of the input that would give the classifier useful information about the label. For instance in the digit data, consider the number of separate, connected regions of white pixels, which varies by digit type. Digits 1, 2, 3, 5, 7 tend to have one contiguous region of white space while the loops in digits 6, 8, 9 create more. The number of white regions in digit 4 depends on the writer. This is an example of a feature that is not directly available to the classifier from the per-pixel information. If your feature extractor adds new features that encode these properties, the classifier will be able to exploit them. Note that some features may require non-trivial computation to extract.\n",
    "\n",
    "Add new **binary** features for the digit dataset in the `BetterFeatureExtractor` function below. Note that you can encode a feature which takes N values [1,2,...,N] by using N binary features, of which only one is on at the time, to indicate which of the N possibilities you have. In theory, features aren't conditionally independent as naïve Bayes requires, but it can still work well in practice. Note that you may add new feature(s) to the set of basic features, or use only new feature(s) instead of the basic features.\n",
    "\n",
    "The marks for this part of the assignment are given based on the improvement you achieve by using new feature(s) in comparison to the base features on additional hidden data. You will get some marks for implementing new feature(s) which yield any improvement at all. Further marks are given based on how large is the gain in accuracy you achieve. Note that the marks don't depend on the initial accuracy achieved based on the basic features (as long as it is higher than 10% (random guess for a 10-class classification problem)). \n",
    "\n",
    "\n",
    "## Training Data - digit classification\n",
    "You are given training and test datasets for digit classification. The training data is described below and has 300 data point. There are also 300 data points of test data. As for spam filtering data the test data is functionally identical to the training data.\n",
    "\n",
    "The cell below loads the input training data into a variable called `training_digit_input` and their labels into a variable called `training_digit_label`."
   ]
  },
  {
   "cell_type": "code",
   "execution_count": 8,
   "metadata": {},
   "outputs": [
    {
     "name": "stdout",
     "output_type": "stream",
     "text": [
      "Shape of the digit input training data set: (300, 28, 28)\n",
      "[[  0   0   0   0   0   0   0   0   0   0   0   0   0   0   0   0   0   0\n",
      "    0   0   0   0   0   0   0   0   0   0]\n",
      " [  0   0   0   0   0   0   0   0   0   0   0   0   0   0   0   0   0   0\n",
      "    0   0   0   0   0   0   0   0   0   0]\n",
      " [  0   0   0   0   0   0   0   0   0   0   0   0   0   0   0   0   0   0\n",
      "    0   0   0   0   0   0   0   0   0   0]\n",
      " [  0   0   0   0   0   0   0   0   0   0   0   0   0   0   0   0   0   0\n",
      "    0   0   0   0   0   0   0   0   0   0]\n",
      " [  0   0   0   0   0   0   0   0   0   0   0   0   0   0   0   0   0   0\n",
      "    0   0   0   0   0   0   0   0   0   0]\n",
      " [  0   0   0   0   0   0   0   0   0   0   0   0   0   0   0   0   0   0\n",
      "    0   0   0   0   0   0   0   0   0   0]\n",
      " [  0   0   0   0   0   0   0   0   0   0   0   0   0   0   0   0 127 255\n",
      "  207   0   0   0   0   0   0   0   0   0]\n",
      " [  0   0   0   0   0   0   0   0   0   0   0   0   0   0  13  89 244 253\n",
      "  236  44   0   0   0   0   0   0   0   0]\n",
      " [  0   0  38  91 184  90  38   0   0   0   0  32  70 142 203 252 252 253\n",
      "  252  69   0   0   0   0   0   0   0   0]\n",
      " [  0   0 138 252 252 252 232 208 207 207 207 228 253 252 252 252 252 253\n",
      "  252  69   0   0   0   0   0   0   0   0]\n",
      " [  0   0  23 158 252 252 252 253 252 252 252 252 253 200 136  22 128 253\n",
      "  231  37   0   0   0   0   0   0   0   0]\n",
      " [  0   0   0   0   0   0  53 116  42   0  43  11   0   0   0   0 231 255\n",
      "  207   0   0   0   0   0   0   0   0   0]\n",
      " [  0   0   0   0   0   0   0   0   0   0   0   0   0   0   0   0 230 253\n",
      "  206   0   0   0   0   0   0   0   0   0]\n",
      " [  0   0   0   0   0   0   0   0   0   0   0   0   0   0   0   0 230 253\n",
      "  206   0   0   0   0   0   0   0   0   0]\n",
      " [  0   0   0   0   0   0   0   0   0   0  34  93   0   0   0  76 248 253\n",
      "  206   0  76  51   0   0   0   0   0   0]\n",
      " [  0   0   0   0   0   0   0   0   0  32 218 252 231 230 230 238 252 253\n",
      "  248 230 248  85   0   0   0   0   0   0]\n",
      " [  0   0   0   0   0   0   0   0   0 185 253 253 255 253 253 253 253 255\n",
      "  249 230  42   0   0   0   0   0   0   0]\n",
      " [  0   0   0   0   0   0   0   0   0  99 206 206 207 206 219 252 252 218\n",
      "   75   0   0   0   0   0   0   0   0   0]\n",
      " [  0   0   0   0   0   0   0   0   0   0   0   0   0   0  70 252 252 116\n",
      "    0   0   0   0   0   0   0   0   0   0]\n",
      " [  0   0   0   0   0   0   0   0   0   0   0   0   0   0  70 252 252 116\n",
      "    0   0   0   0   0   0   0   0   0   0]\n",
      " [  0   0   0   0   0   0   0   0   0   0   0   0   0   0  70 252 252 116\n",
      "    0   0   0   0   0   0   0   0   0   0]\n",
      " [  0   0   0   0   0   0   0   0   0   0   0   0   0   0  70 253 253 116\n",
      "    0   0   0   0   0   0   0   0   0   0]\n",
      " [  0   0   0   0   0   0   0   0   0   0   0   0   0   0  70 252 252 116\n",
      "    0   0   0   0   0   0   0   0   0   0]\n",
      " [  0   0   0   0   0   0   0   0   0   0   0   0   0   0  70 252 252 116\n",
      "    0   0   0   0   0   0   0   0   0   0]\n",
      " [  0   0   0   0   0   0   0   0   0   0   0   0   0   0  70 252 252 116\n",
      "    0   0   0   0   0   0   0   0   0   0]\n",
      " [  0   0   0   0   0   0   0   0   0   0   0   0   0   0  70 252 252 116\n",
      "    0   0   0   0   0   0   0   0   0   0]\n",
      " [  0   0   0   0   0   0   0   0   0   0   0   0   0   0   0   0   0   0\n",
      "    0   0   0   0   0   0   0   0   0   0]\n",
      " [  0   0   0   0   0   0   0   0   0   0   0   0   0   0   0   0   0   0\n",
      "    0   0   0   0   0   0   0   0   0   0]]\n",
      "Shape of the digit label training data set: (300,)\n",
      "[7 2 4 6 5 6 8 2 5 7 0 2 3 2 5 1 3 3 9 6 1 7 0 0 7 4 2 2 5 2 7 6 8 2 0 7 8\n",
      " 5 0 3 4 3 6 7 8 2 0 8 7 3 9 0 4 3 9 0 8 0 5 6 4 4 1 8 4 0 3 6 1 4 3 8 5 8\n",
      " 2 8 3 1 6 4 4 9 7 1 8 1 3 1 6 0 6 9 7 9 9 1 7 6 5 7 3 6 6 8 6 7 9 6 0 0 8\n",
      " 4 1 1 0 5 7 4 8 2 5 2 4 3 7 5 5 9 2 6 8 7 9 2 5 1 8 8 4 6 7 6 6 9 7 6 8 8\n",
      " 9 5 2 7 8 0 4 9 3 4 8 5 1 1 2 6 2 2 8 9 4 4 3 2 9 9 1 4 4 7 3 4 5 5 0 4 1\n",
      " 2 0 5 9 3 9 5 0 0 3 3 2 9 9 9 1 1 3 1 9 6 3 7 3 9 4 5 0 1 8 5 0 1 1 9 5 6\n",
      " 0 6 8 1 3 4 9 7 2 1 9 3 5 6 3 0 2 7 4 2 1 0 2 0 8 1 1 1 2 4 7 8 5 0 6 5 6\n",
      " 4 6 4 3 3 0 3 2 2 7 0 9 1 7 5 3 5 7 9 5 4 7 7 9 5 8 1 8 0 2 4 5 8 3 2 8 9\n",
      " 6 7 6 0]\n"
     ]
    }
   ],
   "source": [
    "import numpy as np\n",
    "training_digit_input = np.load(\"data/training_digit_input.npy\")\n",
    "print(\"Shape of the digit input training data set:\", training_digit_input.shape)\n",
    "print(training_digit_input[0])\n",
    "training_digit_label = np.load(\"data/training_digit_label.npy\")\n",
    "print(\"Shape of the digit label training data set:\", training_digit_label.shape)\n",
    "print(training_digit_label)"
   ]
  },
  {
   "cell_type": "markdown",
   "metadata": {},
   "source": [
    "Your input training set `training_digit_input` is an array of size (300, 28, 28). Each data point (along the 0th dimension) is an image of 28x28 pixels. `training_digit_label` contains the corresponding labels for these images. It is an array of length 300. \n",
    "\n",
    "The cell below visualises the first 5 images with their labels as title of the image."
   ]
  },
  {
   "cell_type": "code",
   "execution_count": 9,
   "metadata": {},
   "outputs": [
    {
     "data": {
      "image/png": "[encoded data removed]",
      "text/plain": [
       "<Figure size 432x288 with 1 Axes>"
      ]
     },
     "metadata": {
      "needs_background": "light"
     },
     "output_type": "display_data"
    },
    {
     "data": {
      "image/png": "[encoded data removed]",
      "text/plain": [
       "<Figure size 432x288 with 1 Axes>"
      ]
     },
     "metadata": {
      "needs_background": "light"
     },
     "output_type": "display_data"
    },
    {
     "data": {
      "image/png": "[encoded data removed]",
      "text/plain": [
       "<Figure size 432x288 with 1 Axes>"
      ]
     },
     "metadata": {
      "needs_background": "light"
     },
     "output_type": "display_data"
    },
    {
     "data": {
      "image/png": "[encoded data removed]",
      "text/plain": [
       "<Figure size 432x288 with 1 Axes>"
      ]
     },
     "metadata": {
      "needs_background": "light"
     },
     "output_type": "display_data"
    },
    {
     "data": {
      "image/png": "[encoded data removed]",
      "text/plain": [
       "<Figure size 432x288 with 1 Axes>"
      ]
     },
     "metadata": {
      "needs_background": "light"
     },
     "output_type": "display_data"
    }
   ],
   "source": [
    "import matplotlib.pyplot as plt\n",
    "\n",
    "for i in range(5):\n",
    "    plt.imshow(training_digit_input[i], cmap='gray')\n",
    "    plt.axis(\"off\")\n",
    "    plt.title(f\"{training_digit_label[i]}\")\n",
    "    plt.show()"
   ]
  },
  {
   "cell_type": "markdown",
   "metadata": {},
   "source": [
    "The same structure of the data is used for the *test data*."
   ]
  },
  {
   "cell_type": "code",
   "execution_count": 10,
   "metadata": {},
   "outputs": [
    {
     "name": "stdout",
     "output_type": "stream",
     "text": [
      "Shape of the digit input test data set: (300, 28, 28)\n",
      "[[  0   0   0   0   0   0   0   0   0   0   0   0   0   0   0   0   0   0\n",
      "    0   0   0   0   0   0   0   0   0   0]\n",
      " [  0   0   0   0   0   0   0   0   0   0   0   0   0   0   0   0   0   0\n",
      "    0   0   0   0   0   0   0   0   0   0]\n",
      " [  0   0   0   0   0   0   0   0   0   0   0   0   0   0   0   0   0   0\n",
      "    0   0   0   0   0   0   0   0   0   0]\n",
      " [  0   0   0   0   0   0   0   0   0   0   0   0   0   0   0   0   0   0\n",
      "    0   0   0   0   0   0   0   0   0   0]\n",
      " [  0   0   0   0   0   0   0   0  62 131 123 236 148 148  87  43  43  14\n",
      "    0   0   0   0   0   0   0   0   0   0]\n",
      " [  0   0   0   0   0   0   0   0  27 218 252 252 252 252 253 252 252 211\n",
      "  102   0   0   0   0   0   0   0   0   0]\n",
      " [  0   0   0   0   0   0   0   0   0  12  21  21  91  82 144 231 240 245\n",
      "  252 216  32   0   0   0   0   0   0   0]\n",
      " [  0   0   0   0   0   0   0   0   0   0   0   0   0   0   0   0  35 169\n",
      "  252 253 133   0   0   0   0   0   0   0]\n",
      " [  0   0   0   0   0   0   0   0   0   0   0   0   0   0   0  36 203 239\n",
      "  252 253 124   0   0   0   0   0   0   0]\n",
      " [  0   0   0   0   0   0   0   0   0   0   0   0   0 124 166 253 253 253\n",
      "  253 212  27   0   0   0   0   0   0   0]\n",
      " [  0   0   0   0   0   0   0   0   0   0   0   0   0 211 253 252 252 196\n",
      "  124  27   0   0   0   0   0   0   0   0]\n",
      " [  0   0   0   0   0   0   0   0   0   0   0   0   0 106 232 247 252  93\n",
      "    0   0   0   0   0   0   0   0   0   0]\n",
      " [  0   0   0   0   0   0   0   0   0   0   0   0   0   0   0  99 247 231\n",
      "   28   0   0   0   0   0   0   0   0   0]\n",
      " [  0   0   0   0   0   0   0   0   0   0   0   0   0   0   0   0 188 252\n",
      "  129   0   0   0   0   0   0   0   0   0]\n",
      " [  0   0   0   0   0   0   0   0   0  25 148 113 172   0   0   0 110 253\n",
      "  165   0   0   0   0   0   0   0   0   0]\n",
      " [  0   0   0   0   0   0   0   0   0 157 252 174  56   0   0   0 101 252\n",
      "  252   0   0   0   0   0   0   0   0   0]\n",
      " [  0   0   0   0   0   0   0   0  98 253 252  21   0   0   0   0 127 252\n",
      "  252   0   0   0   0   0   0   0   0   0]\n",
      " [  0   0   0   0   0   0   0   0 106 253 169   7   0   0   0   0 197 252\n",
      "  252   0   0   0   0   0   0   0   0   0]\n",
      " [  0   0   0   0   0   0   0  54 184 253  63   0   0   0  18  27 232 252\n",
      "  164   0   0   0   0   0   0   0   0   0]\n",
      " [  0   0   0   0   0   0   0 109 253 247  53   0   0  36 255 174 245 243\n",
      "   79   0   0   0   0   0   0   0   0   0]\n",
      " [  0   0   0   0   0   0   0  43 239 225  21   8 155 242 253 252 252 110\n",
      "    0   0   0   0   0   0   0   0   0   0]\n",
      " [  0   0   0   0   0   0   0   0 115 253 237 234 252 252 253 252 136  42\n",
      "    0   0   0   0   0   0   0   0   0   0]\n",
      " [  0   0   0   0   0   0   0   0  80 253 252 252 252 252 190 110   7   0\n",
      "    0   0   0   0   0   0   0   0   0   0]\n",
      " [  0   0   0   0   0   0   0   0   0  60 226 208 182 103   0   0   0   0\n",
      "    0   0   0   0   0   0   0   0   0   0]\n",
      " [  0   0   0   0   0   0   0   0   0   0   0   0   0   0   0   0   0   0\n",
      "    0   0   0   0   0   0   0   0   0   0]\n",
      " [  0   0   0   0   0   0   0   0   0   0   0   0   0   0   0   0   0   0\n",
      "    0   0   0   0   0   0   0   0   0   0]\n",
      " [  0   0   0   0   0   0   0   0   0   0   0   0   0   0   0   0   0   0\n",
      "    0   0   0   0   0   0   0   0   0   0]\n",
      " [  0   0   0   0   0   0   0   0   0   0   0   0   0   0   0   0   0   0\n",
      "    0   0   0   0   0   0   0   0   0   0]]\n",
      "Shape of the digit label test data set: (300,)\n",
      "[3 4 6 4 0 1 9 8 4 2 8 5 1 9 3 6 6 1 1 4 4 0 4 3 4 4 1 4 2 4 6 0 2 2 4 6 0\n",
      " 5 7 4 1 4 7 2 1 9 8 0 8 0 3 3 9 5 3 4 5 3 8 2 6 5 1 6 5 2 8 4 4 9 7 2 1 7\n",
      " 8 0 4 9 6 0 5 8 2 9 3 5 3 3 9 5 0 3 8 7 9 9 7 0 7 0 3 2 1 9 7 7 7 7 6 3 7\n",
      " 1 8 6 8 6 6 2 9 0 7 1 5 7 2 7 9 3 8 9 7 2 8 1 2 3 8 9 1 9 2 2 1 1 7 9 6 7\n",
      " 5 3 6 1 0 8 1 6 5 7 3 8 4 0 3 6 6 0 7 6 3 1 9 8 3 2 9 9 5 3 4 9 7 9 9 8 1\n",
      " 0 5 1 1 0 4 3 1 5 7 5 3 1 8 4 6 6 5 3 6 6 0 8 2 1 2 9 4 2 7 9 5 1 5 6 5 5\n",
      " 2 8 7 0 6 3 1 0 5 9 2 8 0 6 0 0 6 0 8 4 4 9 4 5 9 1 5 0 2 4 5 8 5 7 9 8 2\n",
      " 5 2 3 4 0 2 8 8 9 0 4 8 7 6 6 8 1 0 8 3 4 2 7 0 6 5 2 7 2 0 4 3 1 5 7 3 2\n",
      " 6 7 3 5]\n"
     ]
    }
   ],
   "source": [
    "test_digit_input = np.load(\"data/test_digit_input.npy\")\n",
    "print(\"Shape of the digit input test data set:\", test_digit_input.shape)\n",
    "print(test_digit_input[0])\n",
    "test_digit_label = np.load(\"data/test_digit_label.npy\")\n",
    "print(\"Shape of the digit label test data set:\", test_digit_label.shape)\n",
    "print(test_digit_label)"
   ]
  },
  {
   "cell_type": "markdown",
   "metadata": {},
   "source": [
    "When doing feature extraction the input data is flatten to have the shape (n, 784), where $784 = 28 \\times 28$."
   ]
  },
  {
   "cell_type": "markdown",
   "metadata": {},
   "source": [
    "## Feature engineering for digit classification\n",
    "Write all of the code for your feature extraction below this cell. We also provide the code of the basic feature extraction for your reference. You may insert more cells below this if you wish, but you must not duplicate any cells as this can break the grading script.\n",
    "\n",
    "### Submission Requirements\n",
    "The code for your feature extractor should be included in the `BetterFeatureExtractor` function below. We will call this function to generate new features.\n",
    "\n",
    "Your code must provide a variable with the name `digit_classifier`. This object must have a method called `train` which takes input data and input labels and tune internal parameters of the classifier (if required). If your classifier does not need to use the `train` method (e.g., k-Nearest Neighbour method doesn't use explicit training), you should still have the `train` method, but you can leave it empty with the command `pass`.\n",
    "\n",
    "`digit_classifier` must also have a method called `predict` which takes input data and returns class predictions. \n",
    "\n",
    "The input data will be a single $n \\times m$ numpy array, where $n$ is the number of data points and $m$ is the number of features ($m = 784$ for the basic features). Your classifier should support working with different number of features if your new features are of a different dimension. The input labels will be a single numpy array of length $n$ with true classifications for the input data (for the `train` method).\n",
    "\n",
    "Your classifier when calling the `predict` method should return a numpy array of length $n$ with classifications. There is a demo in the cells below, and a test you can run before submission to check that your code is working correctly.\n",
    "\n",
    "Your code must run on our test machine in under 5 minutes - both training and prediction (on given training and test data).  \n",
    "\n",
    "Remember that we will be testing your classifier on additional hidden data."
   ]
  },
  {
   "cell_type": "code",
   "execution_count": 11,
   "metadata": {
    "deletable": false,
    "editable": false,
    "nbgrader": {
     "cell_type": "code",
     "checksum": "96679e416c1f5b5ea9a692ee60b42dfd",
     "grade": false,
     "grade_id": "cell-8cc92a4b0ae1078f",
     "locked": true,
     "schema_version": 3,
     "solution": false,
     "task": false
    }
   },
   "outputs": [],
   "source": [
    "def BasicFeatureExtractor(input_data):\n",
    "    \"\"\"\n",
    "    Returns basic extracted features for input_data. \n",
    "    A binary feature for each pixel: 0 if a pixel is black, 1 otherwise\n",
    "    \n",
    "    :param input_data: a 3-dimensional numpy array of the shape (n, 28, 28)\n",
    "                       input data of n images of 28x28 pixels\n",
    "    \n",
    "    :return extracted_features: a 2-dimensional numpy array of the shape (n, 784)\n",
    "                                extracted binary features \n",
    "    \"\"\"\n",
    "    # compute binary features for each pixel\n",
    "    extracted_features = (input_data > 0).astype(int)\n",
    "    \n",
    "    # flatten images of 28x28 pixels into a vector of 784 length\n",
    "    extracted_features = np.reshape(extracted_features, (extracted_features.shape[0], -1))\n",
    "    \n",
    "    return extracted_features"
   ]
  },
  {
   "cell_type": "code",
   "execution_count": 12,
   "metadata": {},
   "outputs": [
    {
     "data": {
      "image/png": "[encoded data removed]",
      "text/plain": [
       "<Figure size 432x288 with 1 Axes>"
      ]
     },
     "metadata": {
      "needs_background": "light"
     },
     "output_type": "display_data"
    },
    {
     "data": {
      "image/png": "[encoded data removed]",
      "text/plain": [
       "<Figure size 432x288 with 1 Axes>"
      ]
     },
     "metadata": {
      "needs_background": "light"
     },
     "output_type": "display_data"
    },
    {
     "data": {
      "image/png": "[encoded data removed]",
      "text/plain": [
       "<Figure size 432x288 with 1 Axes>"
      ]
     },
     "metadata": {
      "needs_background": "light"
     },
     "output_type": "display_data"
    },
    {
     "data": {
      "image/png": "[encoded data removed]",
      "text/plain": [
       "<Figure size 432x288 with 1 Axes>"
      ]
     },
     "metadata": {
      "needs_background": "light"
     },
     "output_type": "display_data"
    },
    {
     "data": {
      "image/png": "[encoded data removed]",
      "text/plain": [
       "<Figure size 432x288 with 1 Axes>"
      ]
     },
     "metadata": {
      "needs_background": "light"
     },
     "output_type": "display_data"
    },
    {
     "data": {
      "image/png": "[encoded data removed]",
      "text/plain": [
       "<Figure size 432x288 with 1 Axes>"
      ]
     },
     "metadata": {
      "needs_background": "light"
     },
     "output_type": "display_data"
    },
    {
     "data": {
      "image/png": "[encoded data removed]",
      "text/plain": [
       "<Figure size 432x288 with 1 Axes>"
      ]
     },
     "metadata": {
      "needs_background": "light"
     },
     "output_type": "display_data"
    },
    {
     "data": {
      "image/png": "[encoded data removed]",
      "text/plain": [
       "<Figure size 432x288 with 1 Axes>"
      ]
     },
     "metadata": {
      "needs_background": "light"
     },
     "output_type": "display_data"
    },
    {
     "data": {
      "image/png": "[encoded data removed]",
      "text/plain": [
       "<Figure size 432x288 with 1 Axes>"
      ]
     },
     "metadata": {
      "needs_background": "light"
     },
     "output_type": "display_data"
    },
    {
     "data": {
      "image/png": "[encoded data removed]",
      "text/plain": [
       "<Figure size 432x288 with 1 Axes>"
      ]
     },
     "metadata": {
      "needs_background": "light"
     },
     "output_type": "display_data"
    }
   ],
   "source": [
    "import numpy as np\n",
    "training_digit_input = np.load(\"data/training_digit_input.npy\")\n",
    "training_digit_label = np.load(\"data/training_digit_label.npy\")\n",
    "test_digit_input = np.load(\"data/test_digit_input.npy\")\n",
    "test_digit_label = np.load(\"data/test_digit_label.npy\")\n",
    "all_data_input = np.concatenate((training_digit_input, test_digit_input), axis=0)\n",
    "all_data_label = np.concatenate((training_digit_label, test_digit_label), axis=0)\n",
    "\n",
    "NUMBER_OF_CLASSES = 10\n",
    "def mean_pictures():\n",
    "    mean_picture_mat = np.zeros((NUMBER_OF_CLASSES,28,28))\n",
    "    for class_i in range(NUMBER_OF_CLASSES):\n",
    "        mean_picture_mat[class_i] = all_data_input[np.where(all_data_label == class_i)[0]].mean(axis=0)\n",
    "    return mean_picture_mat\n",
    "\n",
    "mean_pictures_mat = mean_pictures()\n",
    "for i in range(NUMBER_OF_CLASSES):\n",
    "    plt.imshow(mean_pictures_mat[i], cmap='gray')\n",
    "    plt.show()\n",
    "        \n",
    "\n",
    "def BetterFeatureExtractor(input_data, hi=97):\n",
    "    \"\"\"\n",
    "    A function for your improved feature extractor\n",
    "    \n",
    "    :param input_data: a 3-dimensional numpy array of the shape (n, 28, 28)\n",
    "                       input data of n images of 28x28 pixels\n",
    "    \n",
    "    :return extracted_features: a 2-dimensional numpy array of the shape (n, m)\n",
    "                                extracted binary m features for n images  \n",
    "    \"\"\"\n",
    "    extracted_features = BasicFeatureExtractor(input_data)\n",
    "    n = input_data.shape[0]\n",
    "    #extracted_features = np.zeros((n, 0))\n",
    "\n",
    "#     for i in range(0, (28**2)):\n",
    "#         extracted_features[i] =  np.where(np.abs(np.sum(input_data, (1,2))-i*20) < 20, 1, 0)\n",
    "#         extracted_features = np.hstack((extracted_features, x))\n",
    "    \n",
    "    #     for picture in input_data:\n",
    "#         feature_0_top = np.mean(picture[5:10, 7:23])\n",
    "#         feature_0_right = np.mean(picture[5:10, 7:23])\n",
    "#         print(feature_0_top, feature_0_right)\n",
    "    \n",
    "#     LENGTH = 28\n",
    "#     FCS = 10\n",
    "#     MAX_POOL = 8\n",
    "    \n",
    "#     for data in input_data:\n",
    "#         # Feature Map\n",
    "#         new_data = np.zeros((LENGTH-FCS//2,LENGTH-FCS//2))\n",
    "#         after_max_pool = np.zeros((LENGTH-2*(FCS//2)-1-MAX_POOL//2, LENGTH-2*(FCS//2)-1-MAX_POOL//2))\n",
    "#         # Feature Convolution\n",
    "#         for i in range(FCS//2, LENGTH-FCS//2):\n",
    "#             for j in range(FCS//2, LENGTH-FCS//2):\n",
    "#                 # Filter Convolution per cell\n",
    "#                 new_data[i,j] = np.mean(data[i-FCS//2:i+FCS//2, j-FCS//2:j+FCS//2])\n",
    "#         # Passing it through ReLU\n",
    "#         relued_data = np.maximum(0, new_data)\n",
    "#         # Max Pooling\n",
    "#         for i in range(MAX_POOL//2, LENGTH-2*(FCS//2)-1-MAX_POOL//2):\n",
    "#             for j in range(MAX_POOL//2, LENGTH-2*(FCS//2)-1-MAX_POOL//2):\n",
    "#                 # Max pooling per cell\n",
    "#                 after_max_pool[i,j] = np.max(relued_data[i-MAX_POOL//2:i+MAX_POOL//2, j-MAX_POOL//2:j+MAX_POOL//2])\n",
    "#     print(after_max_pool)\n",
    "    \n",
    "        \n",
    "                \n",
    "        \n",
    "\n",
    "    \n",
    "    \n",
    "    ### YOUR CODE HERE...\n",
    "    \n",
    "    \n",
    "                \n",
    "\n",
    "#     #MANUALLY\n",
    "    \n",
    "#     #Zero features\n",
    "#     zero_top =  np.reshape(np.mean(input_data[:, 5:10, 7:23], (1,2)), (n,1))\n",
    "#     zero_right =  np.reshape(np.mean(input_data[:, 7:23, 17:23], (1,2)), (n,1))\n",
    "#     zero_bot =  np.reshape(np.mean(input_data[:, 7:23, 17:23], (1,2)), (n,1))\n",
    "#     zero_left = np.reshape(np.mean(input_data[:, 10:22, 5:10], (1,2)), (n,1))\n",
    "#     zero_features = np.hstack((np.where(zero_top > 100, 1, 0), np.where(zero_right > 95, 1, 0), np.where(zero_bot > 95, 1, 0), np.where(zero_left > 95, 1, 0)))\n",
    "#     anti_zero_centre = np.reshape(np.mean(input_data[:, 12:16, 12:16], (1,2)), (n,1))\n",
    "#     zero_anti_features = np.where(anti_zero_centre < 30, 1, 0)\n",
    "#     extracted_features = np.hstack((extracted_features, zero_features, zero_anti_features))\n",
    "    \n",
    "#     #One features\n",
    "#     one_highlight = np.reshape(np.mean(input_data[:, 10:18, 12:16], (1,2)), (n,1))\n",
    "#     one_bot_left = np.reshape(np.mean(input_data[:, 15:22, 11:15], (1,2)), (n,1))\n",
    "#     one_top_right = np.reshape(np.mean(input_data[:, 5:12, 13:18], (1,2)), (n,1))\n",
    "#     one_features = np.hstack((np.where(one_highlight > 135, 1, 0), np.where(one_bot_left > 130, 1, 0), np.where(one_top_right > 90, 1, 0)))\n",
    "#     anti_one_bot_right = np.reshape(np.mean(input_data[:, 17:, 17:], (1,2)), (n,1))\n",
    "#     anti_one_top_left = np.reshape(np.mean(input_data[:, :12, :12], (1,2)), (n,1))\n",
    "#     one_anti_features = np.hstack((np.where(anti_one_bot_right < 7, 1, 0), np.where(anti_one_top_left > 8, 1, 0)))\n",
    "#     extracted_features = np.hstack((extracted_features, one_features, one_anti_features))\n",
    "    \n",
    "#     #Two features\n",
    "#     two_top = np.reshape(np.mean(input_data[:, 3:8, 5:20], (1,2)), (n,1))\n",
    "#     two_mid = np.reshape(np.mean(input_data[:, 5:15, 15:20], (1,2)), (n,1))\n",
    "#     two_bot_left = np.reshape(np.mean(input_data[:, 15:23, 7:16], (1,2)), (n,1))\n",
    "#     two_bot_right = np.reshape(np.mean(input_data[:, 16:22, 16:23], (1,2)), (n,1))\n",
    "#     two_features = np.hstack((np.where(two_top > 65, 1, 0), np.where(two_mid > 100, 1, 0), np.where(two_bot_left > 120, 1, 0), np.where(two_bot_right > 95, 1, 0)))\n",
    "#     anti_two_left_mid = np.reshape(np.mean(input_data[:, 11:13, :10], (1,2)), (n,1))\n",
    "#     two_anti_features = np.where(anti_two_left_mid < 15, 1, 0)\n",
    "#     extracted_features = np.hstack((extracted_features, two_features, two_anti_features))\n",
    "    \n",
    "#     #Three features\n",
    "#     three_top = np.reshape(np.mean(input_data[:, 4:8, 9:18], (1,2)), (n,1))\n",
    "#     three_top_right = np.reshape(np.mean(input_data[:, 4:8, 16:20], (1,2)), (n,1))\n",
    "#     three_mid = np.reshape(np.mean(input_data[:, 11:15, 11:17], (1,2)), (n,1))\n",
    "#     three_bot_right = np.reshape(np.mean(input_data[:, 14:22, 16:20], (1,2)), (n,1))\n",
    "#     three_bot = np.reshape(np.mean(input_data[:, 21:24, 7:16], (1,2)), (n,1))\n",
    "#     three_features = np.hstack((np.where(three_top > 100, 1, 0), np.where(three_top_right > 90, 1, 0), np.where(three_mid > 140, 1, 0), np.where(three_bot_right > 110, 1, 0), np.where(three_bot > 115, 1, 0)))\n",
    "#     three_anti_top_left = np.reshape(np.mean(input_data[:, 7:13, 5:8], (1,2)), (n,1))\n",
    "#     three_anti_bot_left = np.reshape(np.mean(input_data[:, 15:25, 4:7], (1,2)), (n,1))\n",
    "#     three_anti_bot_mid = np.reshape(np.mean(input_data[:, 17:19, 10:16], (1,2)), (n,1))\n",
    "#     three_anti_features = np.hstack((np.where(three_anti_top_left < 30, 1, 0), np.where(three_anti_bot_left < 35, 1, 0), np.where(three_anti_bot_mid < 40, 1, 0)))\n",
    "#     extracted_features = np.hstack((extracted_features, three_features, three_anti_features))\n",
    "\n",
    "#     #Four features\n",
    "#     four_horizontal = np.reshape(np.mean(input_data[:, 12:17, 7:20], (1,2)), (n,1))\n",
    "#     four_left_vertical = np.reshape(np.mean(input_data[:, 7:17, 7:12], (1,2)), (n,1))\n",
    "#     four_top_right_vertical = np.reshape(np.mean(input_data[:, 7:12, 16:21], (1,2)), (n,1))\n",
    "#     four_bot_right_vertical = np.reshape(np.mean(input_data[:, 16:24, 12:17], (1,2)), (n,1))\n",
    "#     four_features = np.hstack((np.where(four_horizontal > 130, 1, 0), np.where(four_left_vertical > 95, 1, 0), np.where(four_top_right_vertical > 95, 1, 0), np.where(four_bot_right_vertical > 105, 1, 0)))\n",
    "#     anti_four_bot_left = np.reshape(np.mean(input_data[:, 16:24, :11], (1,2)), (n,1))\n",
    "#     anti_four_top_middle = np.reshape(np.mean(input_data[:, 10:12, 14:15], (1,2)), (n,1))\n",
    "#     four_anti_features = np.hstack((np.where(anti_four_bot_left < 20, 1, 0), np.where(anti_four_top_middle < 30, 1, 0)))\n",
    "#     extracted_features = np.hstack((extracted_features, four_features, four_anti_features))\n",
    "    \n",
    "#     #Five features\n",
    "#     five_top = np.reshape(np.mean(input_data[:, 4:8, 11:22], (1,2)), (n,1))\n",
    "#     five_top_vert = np.reshape(np.mean(input_data[:, 6:15, 9:15], (1,2)), (n,1))\n",
    "#     five_mid = np.reshape(np.mean(input_data[:, 12:15, 8:20], (1,2)), (n,1))\n",
    "#     five_mid_vert = np.reshape(np.mean(input_data[:, 12:21, 15:21], (1,2)), (n,1))\n",
    "#     five_bot = np.reshape(np.mean(input_data[:, 20:25, 8:17], (1,2)), (n,1))\n",
    "#     five_features = np.hstack((np.where(five_top > 70, 1, 0), np.where(five_top_vert > 100, 1, 0), np.where(five_mid > 80, 1, 0), np.where(five_mid_vert > 65, 1, 0), np.where(five_bot > 85, 1, 0)))\n",
    "#     five_anti_right_vert = np.reshape(np.mean(input_data[:, 10:13, 17:23], (1,2)), (n,1))\n",
    "#     five_anti_mid = np.reshape(np.mean(input_data[:, 16:20, 7:13], (1,2)), (n,1))\n",
    "#     five_anti_features = np.hstack((np.where(five_anti_right_vert < 30, 1, 0), np.where(five_anti_mid < 50, 1, 0)))\n",
    "#     extracted_features = np.hstack((extracted_features, five_features, five_anti_features))    \n",
    "    \n",
    "#     #Six features\n",
    "#     six_top = np.reshape(np.mean(input_data[:, 3:9, :], (1,2)), (n,1))\n",
    "#     six_middle = np.reshape(np.mean(input_data[:, 13:17, 8:20], (1,2)), (n,1))\n",
    "#     six_bot_left = np.reshape(np.mean(input_data[:, 13:22, 9:13], (1,2)), (n,1))\n",
    "#     six_bot = np.reshape(np.mean(input_data[:, 19:21, 10:17], (1,2)), (n,1))\n",
    "#     six_bot_right = np.reshape(np.mean(input_data[:, 11:20, 17:22], (1,2)), (n,1))\n",
    "#     six_features = np.hstack((np.where(six_top > 15, 1, 0), np.where(six_middle > 110, 1, 0), np.where(six_bot_left > 130, 1, 0), np.where(six_bot > 165, 1, 0), np.where(six_bot_right > 80, 1, 0)))\n",
    "#     six_anti_top_right = np.reshape(np.mean(input_data[:, 5:10, 19:23], (1,2)), (n,1))\n",
    "#     six_anti_mid = np.reshape(np.mean(input_data[:, 17:19, 13:16], (1,2)), (n,1))\n",
    "#     six_anti_features = np.hstack((np.where(six_anti_top_right < 15, 1, 0), np.where(six_anti_mid < 80, 1, 0)))\n",
    "#     extracted_features = np.hstack((extracted_features, six_features, six_anti_features))       \n",
    "    \n",
    "#     #Seven features\n",
    "#     seven_top = np.reshape(np.mean(input_data[:, 7:10, 6:20], (1,2)), (n,1))\n",
    "#     seven_top_right = np.reshape(np.mean(input_data[:, 8:13, 16:19], (1,2)), (n,1))\n",
    "#     seven_mid_right = np.reshape(np.mean(input_data[:, 14:17, 15:17], (1,2)), (n,1))\n",
    "#     seven_mid = np.reshape(np.mean(input_data[:, 17:24, 12:15], (1,2)), (n,1))\n",
    "#     seven_bot = np.reshape(np.mean(input_data[:, 21:25, 9:15], (1,2)), (n,1))\n",
    "#     seven_features = np.hstack((np.where(seven_top > 120, 1, 0), np.where(seven_top_right > 155, 1, 0), np.where(seven_mid_right > 170, 1, 0), np.where(seven_mid > 130, 1, 0), np.where(seven_bot > 80, 1, 0)))\n",
    "#     seven_anti_left = np.reshape(np.mean(input_data[:, 13:18, 5:12], (1,2)), (n,1))\n",
    "#     seven_anti_right = np.reshape(np.mean(input_data[:, 20:25, 17:21], (1,2)), (n,1))\n",
    "#     seven_anti_features = np.hstack((np.where(seven_anti_left < 30, 1, 0), np.where(seven_anti_right < 25, 1, 0)))\n",
    "#     extracted_features = np.hstack((extracted_features, seven_features, seven_anti_features))       \n",
    "    \n",
    "#     #Eight features\n",
    "#     eight_top = np.reshape(np.mean(input_data[:, 6:7, 10:20], (1,2)), (n,1))\n",
    "#     eight_mid = np.reshape(np.mean(input_data[:, 13:17, 11:16], (1,2)), (n,1))\n",
    "#     eight_bot = np.reshape(np.mean(input_data[:, 22:24, 9:14], (1,2)), (n,1))\n",
    "#     eight_top_left = np.reshape(np.mean(input_data[:, 8:12, 9:12], (1,2)), (n,1))\n",
    "#     eight_top_right = np.reshape(np.mean(input_data[:, 5:12, 17:20], (1,2)), (n,1))\n",
    "#     eight_bot_left = np.reshape(np.mean(input_data[:, 18:23, 8:11], (1,2)), (n,1))\n",
    "#     eight_bot_right = np.reshape(np.mean(input_data[:, 18:22, 15:18], (1,2)), (n,1))\n",
    "#     eight_features = np.hstack((np.where(eight_top > 110, 1, 0), np.where(eight_mid > 180, 1, 0), np.where(eight_bot > 165, 1, 0), np.where(eight_top_left > 120, 1, 0), np.where(eight_top_right > 120, 1, 0), np.where(eight_bot_left > 110, 1, 0), np.where(eight_bot_right > 110, 1, 0)))\n",
    "#     eight_anti_top = np.reshape(np.mean(input_data[:, 9:12, 13:16], (1,2)), (n,1))\n",
    "#     eight_anti_bot = np.reshape(np.mean(input_data[:, 19:21, 12:14], (1,2)), (n,1))\n",
    "#     eight_anti_left = np.reshape(np.mean(input_data[:, 13:17, 5:9], (1,2)), (n,1))\n",
    "#     eight_anti_right = np.reshape(np.mean(input_data[:, 14:17, 18:21], (1,2)), (n,1))\n",
    "#     eight_anti_features = np.hstack((np.where(eight_anti_top < 110, 1, 0), np.where(eight_anti_bot < 95, 1, 0), np.where(eight_anti_left < 30, 1, 0), np.where(eight_anti_right < 45, 1, 0)))\n",
    "#     extracted_features = np.hstack((extracted_features, eight_features, eight_anti_features))\n",
    "    \n",
    "#     #Nine features\n",
    "#     nine_top = np.reshape(np.mean(input_data[:, 6:8, 10:17], (1,2)), (n,1))\n",
    "#     nine_mid = np.reshape(np.mean(input_data[:, 13:17, 8:18], (1,2)), (n,1))\n",
    "#     nine_left = np.reshape(np.mean(input_data[:, 9:15, 7:10], (1,2)), (n,1))\n",
    "#     nine_top_right = np.reshape(np.mean(input_data[:, 7:15, 17:19], (1,2)), (n,1))\n",
    "#     nine_mid_right = np.reshape(np.mean(input_data[:, 13:18, 15:17], (1,2)), (n,1))\n",
    "#     nine_bot_right = np.reshape(np.mean(input_data[:, 14:22, 14:17], (1,2)), (n,1))\n",
    "#     nine_features = np.hstack((np.where(nine_top > 90, 1, 0), np.where(nine_mid > 120, 1, 0), np.where(nine_left > 75, 1, 0), np.where(nine_top_right > 130, 1, 0), np.where(nine_mid_right > 170, 1, 0), np.where(nine_bot_right > 130, 1, 0)))\n",
    "#     nine_anti_top = np.reshape(np.mean(input_data[:, 10:12, 12:15], (1,2)), (n,1))\n",
    "#     nine_anti_left = np.reshape(np.mean(input_data[:, 18:25, 7:12], (1,2)), (n,1))\n",
    "#     nine_anti_features = np.hstack((np.where(nine_anti_top < 50, 1, 0), np.where(nine_anti_left < 30, 1, 0)))\n",
    "#     extracted_features = np.hstack((extracted_features, nine_features, nine_anti_features))\n",
    "\n",
    "\n",
    "    \n",
    "    \n",
    "    #print(extracted_features)\n",
    "    \n",
    "# # CONVOLUTION FILTER + 2%\n",
    "#     SIDE_LENGTH = 28\n",
    "#     square_size = 4\n",
    "#     n = input_data.shape[0]\n",
    "#     mean_per_block = np.zeros((n,(SIDE_LENGTH-square_size)**2))\n",
    "#     for i in range(SIDE_LENGTH-square_size):\n",
    "#         for j in range(SIDE_LENGTH-square_size):\n",
    "#             x = np.count_nonzero(input_data[:, i:i+square_size, j:j+square_size], axis = (1,2))\n",
    "#             #x = np.mean(input_data[:, i:i+square_size, j:j+square_size], axis = (1,2))\n",
    "#             mean_per_block[:,i*(SIDE_LENGTH-square_size)+j] = x\n",
    "#     after_bias = np.where(mean_per_block > 15, 1, 0)\n",
    "#     extracted_features = np.hstack((extracted_features, after_bias))\n",
    "    \n",
    "    SIDE_LENGTH = 28\n",
    "    square_size = 5\n",
    "    n = input_data.shape[0]\n",
    "    mean_per_block = np.zeros((n,(SIDE_LENGTH-square_size)**2))\n",
    "    for i in range(SIDE_LENGTH-square_size):\n",
    "        for j in range(SIDE_LENGTH-square_size):\n",
    "            #x = np.count_nonzero(input_data[:, i:i+square_size, j:j+square_size], axis = (1,2))\n",
    "            x = np.mean(input_data[:, i:i+square_size, j:j+square_size], axis = (1,2))\n",
    "            mean_per_block[:,i*(SIDE_LENGTH-square_size)+j] = x\n",
    "    #after_bias = np.where(mean_per_block > 15, 1, 0)\n",
    "    after_bias = np.where(mean_per_block > hi, 1, 0)\n",
    "    extracted_features = np.hstack((extracted_features, after_bias))\n",
    "    \n",
    "    \n",
    "    return extracted_features\n"
   ]
  },
  {
   "cell_type": "code",
   "execution_count": 13,
   "metadata": {},
   "outputs": [],
   "source": [
    "# example creation and training of a digit classifier. A new instance of MyClassifier class from above\n",
    "digit_classifier = MyClassifier(1, 10)\n",
    "digit_classifier.train(train_data=None, train_labels=None)"
   ]
  },
  {
   "cell_type": "markdown",
   "metadata": {},
   "source": [
    "Write all of the code for part 2 of the assignment above this cell.\n",
    "\n",
    "### Testing Details\n",
    "Your classifier performance with both the basic and new features will be tested against some hidden data. The accuracy (percentage of classifications correct) will be calculated and measured whether you get any improvement by using new features in comparison to using the basic features.\n",
    "\n",
    "#### Test Cell\n",
    "The following code will run your classifier with both the basic and new features against the provided test data. To enable it, set the constant `SKIP_TESTS` to `False`.\n",
    "\n",
    "The original skeleton code above classifies every row as 0 (and do not depend on the input data). Moreover, the original code of BetterFeatureExtractor function just returns the basic features. However, once you have written your own classifier and your own BetterFeatureExtractor function you can run this cell again to test it. So long as your code implements BetterFeatureExtractor function and sets up a variable called `digit_classifier` with methods called `train` and `predict`, the test code will be able to run. \n",
    "\n",
    "As with the spam filtering you may wish to test your classifier in additional ways, but you *must* ensure this version still runs before submitting.\n",
    "\n",
    "**IMPORTANT**: you must set `SKIP_TESTS` back to `True` before submitting this file!"
   ]
  },
  {
   "cell_type": "code",
   "execution_count": 14,
   "metadata": {},
   "outputs": [
    {
     "name": "stdout",
     "output_type": "stream",
     "text": [
      "Accuracy on test data using basic features is: 0.1\n",
      "Accuracy on test data using new features is: 0.1\n",
      "Accuracy gained by using new features is: 0.0\n"
     ]
    },
    {
     "ename": "NameError",
     "evalue": "name 'max_i' is not defined",
     "output_type": "error",
     "traceback": [
      "\u001b[1;31m---------------------------------------------------------------------------\u001b[0m",
      "\u001b[1;31mNameError\u001b[0m                                 Traceback (most recent call last)",
      "\u001b[1;32m<ipython-input-14-e718073e6fd5>\u001b[0m in \u001b[0;36m<module>\u001b[1;34m\u001b[0m\n\u001b[0;32m     61\u001b[0m \u001b[1;31m#             max_i, val = i, accuracy_gain\u001b[0m\u001b[1;33m\u001b[0m\u001b[1;33m\u001b[0m\u001b[1;33m\u001b[0m\u001b[0m\n\u001b[0;32m     62\u001b[0m \u001b[1;31m#         #print(f\"Accuracy gained by using new features is: {accuracy_gain}\")\u001b[0m\u001b[1;33m\u001b[0m\u001b[1;33m\u001b[0m\u001b[1;33m\u001b[0m\u001b[0m\n\u001b[1;32m---> 63\u001b[1;33m     \u001b[0mprint\u001b[0m\u001b[1;33m(\u001b[0m\u001b[0mmax_i\u001b[0m\u001b[1;33m,\u001b[0m \u001b[0maccuracy_gain\u001b[0m\u001b[1;33m)\u001b[0m\u001b[1;33m\u001b[0m\u001b[1;33m\u001b[0m\u001b[0m\n\u001b[0m",
      "\u001b[1;31mNameError\u001b[0m: name 'max_i' is not defined"
     ]
    }
   ],
   "source": [
    "SKIP_TESTS = False\n",
    "# NUMBER_OF_CLASSES = 10\n",
    "# def mean_pictures1():\n",
    "#     mean_picture_mat = np.zeros((NUMBER_OF_CLASSES,28,28))\n",
    "#     for class_i in range(NUMBER_OF_CLASSES):\n",
    "#         mean_picture_mat[class_i] = training_and_test_input[np.where(training_and_test_label == class_i)[0]].mean(axis=0)\n",
    "#     return mean_picture_mat\n",
    "\n",
    "if not SKIP_TESTS:\n",
    "    test_digit_input = np.load(\"data/test_digit_input.npy\")\n",
    "    test_digit_label = np.load(\"data/test_digit_label.npy\")\n",
    "#     training_and_test_input = np.vstack((training_digit_input, test_digit_input))\n",
    "#     training_and_test_label = np.vstack((training_digit_label, test_digit_label))\n",
    "#     mean_pictures_mat = mean_pictures1()\n",
    "#     for i in range(NUMBER_OF_CLASSES):\n",
    "#         if True:\n",
    "#             plt.imshow(mean_pictures_mat[i], cmap='gray')\n",
    "#             plt.show()\n",
    "        \n",
    "    \n",
    "    # train classifier on basic features\n",
    "    training_data = BasicFeatureExtractor(training_digit_input)\n",
    "    digit_classifier.train(training_data, training_digit_label)\n",
    "\n",
    "    # test classifier on basic features\n",
    "    test_data = BasicFeatureExtractor(test_digit_input)\n",
    "    basic_feature_predictions = digit_classifier.predict(test_data)\n",
    "    basic_feature_accuracy = np.count_nonzero(\n",
    "        basic_feature_predictions == test_digit_label)/test_digit_label.shape[0]\n",
    "    print(f\"Accuracy on test data using basic features is: {basic_feature_accuracy}\")\n",
    "    training_data = BetterFeatureExtractor(training_digit_input)\n",
    "    digit_classifier.train(training_data, training_digit_label)\n",
    "\n",
    "    # test_classifier on new features\n",
    "    test_data = BetterFeatureExtractor(test_digit_input)\n",
    "    new_feature_predictions = digit_classifier.predict(test_data)\n",
    "    new_feature_accuracy = np.count_nonzero(\n",
    "        new_feature_predictions == test_digit_label)/test_digit_label.shape[0]\n",
    "    print(f\"Accuracy on test data using new features is: {new_feature_accuracy}\")\n",
    "\n",
    "    # compare accuracies achieved on different sets of features\n",
    "    accuracy_gain = new_feature_accuracy - basic_feature_accuracy\n",
    "    print(f\"Accuracy gained by using new features is: {accuracy_gain}\")\n",
    "#     max_i, val = 0, 0\n",
    "#     for i in range(0, 255):\n",
    "#         if i % 25==0: print(i, \"checkpoint!\")\n",
    "#         # train classifier on new features\n",
    "#         training_data = BetterFeatureExtractor(training_digit_input, i)\n",
    "#         digit_classifier.train(training_data, training_digit_label)\n",
    "\n",
    "#         # test_classifier on new features\n",
    "#         test_data = BetterFeatureExtractor(test_digit_input, i)\n",
    "#         new_feature_predictions = digit_classifier.predict(test_data)\n",
    "#         new_feature_accuracy = np.count_nonzero(\n",
    "#             new_feature_predictions == test_digit_label)/test_digit_label.shape[0]\n",
    "#         #print(f\"Accuracy on test data using new features is: {new_feature_accuracy}\")\n",
    "\n",
    "#         # compare accuracies achieved on different sets of features\n",
    "#         accuracy_gain = new_feature_accuracy - basic_feature_accuracy\n",
    "#         if accuracy_gain > val:\n",
    "#             max_i, val = i, accuracy_gain\n",
    "#         #print(f\"Accuracy gained by using new features is: {accuracy_gain}\")\n",
    "    print(max_i, accuracy_gain)"
   ]
  },
  {
   "cell_type": "markdown",
   "metadata": {},
   "source": [
    "# Submission test <a name=\"Submission-Test\"></a>\n",
    "The following cell tests if your notebook is ready for submission. You must not skip this step!\n",
    "\n",
    "Restart the kernel and run the entire notebook (Kernel → Restart & Run All). Now look at the output of the cell below.\n",
    "\n",
    "If there is no output, then your submission is not ready. Either your code is still running (did you forget to skip tests?) or it caused an error.\n",
    "\n",
    "As previously mentioned, failing to follow these instructions can result in a grade of zero."
   ]
  },
  {
   "cell_type": "code",
   "execution_count": null,
   "metadata": {
    "deletable": false,
    "editable": false,
    "nbgrader": {
     "cell_type": "code",
     "checksum": "697bcb8096dada28c09f0f10a27a2d9d",
     "grade": false,
     "grade_id": "cell-ce83a675162843d3",
     "locked": true,
     "schema_version": 3,
     "solution": false,
     "task": false
    }
   },
   "outputs": [],
   "source": [
    "import sys\n",
    "import pathlib\n",
    "\n",
    "fail = False;\n",
    "\n",
    "if not SKIP_TESTS:\n",
    "    fail = True;\n",
    "    print(\"You must set the SKIP_TESTS constant to True in the cell above.\")\n",
    "    \n",
    "p1 = pathlib.Path('./readme.txt')\n",
    "p2 = pathlib.Path('./readme.md')\n",
    "if not (p1.is_file() or p2.is_file()):\n",
    "    fail = True;\n",
    "    print(\"You must include a separate file called readme.txt or readme.md in your submission.\")\n",
    "    \n",
    "p3 = pathlib.Path('./classification.ipynb')\n",
    "if not p3.is_file():\n",
    "    fail = True\n",
    "    print(\"This notebook file must be named classification.ipynb\")\n",
    "    \n",
    "if \"my_accuracy_estimate\" not in dir():\n",
    "    fail = True;\n",
    "    print(\"You must include a function called my_accuracy_estimate.\")\n",
    "else:\n",
    "    if my_accuracy_estimate() == 0.5:\n",
    "        print(\"Warning:\")\n",
    "        print(\"You do not seem to have provided an accuracy estimate, it is set to 0.5.\")\n",
    "        print(\"This is the actually the worst possible accuracy – if your classifier\")\n",
    "        print(\"got 0.1 then it could invert its results to get 0.9!\")\n",
    "    \n",
    "if \"spam_classifier\" not in locals():\n",
    "    fail = True\n",
    "    print(\"Your code should contain the variable spam_classifier.\")\n",
    "else:\n",
    "    if not hasattr(spam_classifier, 'predict'):\n",
    "        fail = True\n",
    "        print(\"The variable spam_classifier should have the method 'predict'.\")\n",
    "        \n",
    "if \"digit_classifier\" not in locals():\n",
    "    print(\"Warning:\")\n",
    "    print(\"If you opt to submit the code for the second part of the assignment\")\n",
    "    print(\"your code should contain the variable digit_classifier.\")\n",
    "else:\n",
    "    if (not hasattr(digit_classifier, 'train')) or \\\n",
    "        (not hasattr(digit_classifier, 'predict')):\n",
    "            print(\"Warning:\")\n",
    "            print(\"If you opt to submit the code for the second part of the assignment\")\n",
    "            print(\"the variable digit_classifier should have both methods 'train' and 'predict'.\")\n",
    "            \n",
    "test_digit_input = np.load(\"data/test_digit_input.npy\")\n",
    "test_data_basic = BasicFeatureExtractor(test_digit_input)\n",
    "test_data_new = BetterFeatureExtractor(test_digit_input)\n",
    "if np.allclose(test_data_basic, test_data_new):\n",
    "    print(\"Warning:\")\n",
    "    print(\"If you opt to submit the code for the second part of the assignment\")\n",
    "    print(\"you do not seem to implement the BetterFeatureExtractor function.\")\n",
    "    print(\"It returns the basic features\")\n",
    "    \n",
    "if fail:\n",
    "    sys.stderr.write(\"Your submission is not ready! Please read and follow the instructions above.\")\n",
    "else:\n",
    "    print(\"All checks passed. When you are ready to submit, upload the notebook and readme file to the\")\n",
    "    print(\"assignment page, without changing any filenames.\")\n",
    "    print()\n",
    "    print(\"INFO: Make sure you include a readme file into your submission.\")\n",
    "    print(\"Failing to include this could result in an overall grade of zero.\")\n",
    "    print()\n",
    "    print(\"If you need to submit multiple files, you can archive them in a .zip file. (No other format.).\")\n",
    "    print(\"Please note that you can submit up to 20 files without archiving them.\")"
   ]
  },
  {
   "cell_type": "code",
   "execution_count": null,
   "metadata": {
    "deletable": false,
    "editable": false,
    "nbgrader": {
     "cell_type": "code",
     "checksum": "badbc892f539e03ad0acdb369f7e0993",
     "grade": true,
     "grade_id": "cell-b64bc40ab6485b50",
     "locked": true,
     "points": 100,
     "schema_version": 3,
     "solution": false,
     "task": false
    }
   },
   "outputs": [],
   "source": [
    "# This is a test cell. Please do not modify or delete."
   ]
  }
 ],
 "metadata": {
  "kernelspec": {
   "display_name": "Python 3",
   "language": "python",
   "name": "python3"
  },
  "language_info": {
   "codemirror_mode": {
    "name": "ipython",
    "version": 3
   },
   "file_extension": ".py",
   "mimetype": "text/x-python",
   "name": "python",
   "nbconvert_exporter": "python",
   "pygments_lexer": "ipython3",
   "version": "3.8.3"
  }
 },
 "nbformat": 4,
 "nbformat_minor": 4
}
